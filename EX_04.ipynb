{
 "cells": [
  {
   "cell_type": "code",
   "execution_count": 1,
   "id": "09d1ee47",
   "metadata": {},
   "outputs": [],
   "source": [
    "import cvxpy as cp\n",
    "import numpy as np"
   ]
  },
  {
   "cell_type": "code",
   "execution_count": null,
   "id": "99ec6674",
   "metadata": {},
   "outputs": [],
   "source": [
    "# Definir variáveis k, f\n",
    "k, f = 1, 1\n",
    "# Definir as matrizes A, B1, B2, C e D\n",
    "A = np.array([[0, 0, 1, 0],\n",
    "              [0, 0, 0, 1],\n",
    "              [-k, k, -f, f],\n",
    "              [k, -k, f, -f]])\n",
    "\n",
    "B1 = np.array([[0], [0], [0], [1]])\n",
    "\n",
    "B2 = np.array([[0], [0], [0], [1]])\n",
    "\n",
    "C = np.array([[1, 0, 0, 0],\n",
    "              [0, 1, 0, 0],\n",
    "              [0, 0, 0, 0]])\n",
    "\n",
    "D = np.array([[0], [0], [1]])\n",
    "\n",
    "n1, n2 = A.shape[0], C.shape[0]\n",
    "\n",
    "# Definir as variáveis de otimização\n",
    "W = cp.Variable((n1, n1), symmetric=True)\n",
    "X = cp.Variable((n2, n2), symmetric=True)\n",
    "Z = cp.Variable((1, n1))\n",
    "rho = cp.Variable()\n",
    "\n",
    "# Blocos para LMI1\n",
    "M11 = X\n",
    "M12 = C @ W + D @ Z\n",
    "M21 = W @ C.T + Z.T @ D.T\n",
    "M22 = W\n",
    "\n",
    "# Blocos para LMI2\n",
    "N11 = A @ W + B2 @ Z + W @ A.T + Z.T @ B2.T\n",
    "N12 = B1\n",
    "N21 = B1.T\n",
    "N22 = -np.eye(B1.shape[1])  # Shape agora é (1, 1)\n",
    "\n",
    "# Construir as matrizes de blocos LMI\n",
    "LMI1 = cp.bmat([\n",
    "    [M11, M12],\n",
    "    [M21, M22]\n",
    "])\n",
    "\n",
    "LMI2 = cp.bmat([\n",
    "    [N11, N12],\n",
    "    [N21, N22]\n",
    "])\n",
    "\n",
    "# Definir a função objetivo: min (rho)\n",
    "objective = cp.Minimize(rho)\n",
    "\n",
    "# Definir as restrições\n",
    "constraints = [cp.trace(X) <= rho,\n",
    "               LMI1 >> 0,\n",
    "               LMI2 << 0]\n",
    "\n",
    "# Criar e resolver o problema de otimização\n",
    "problem = cp.Problem(objective, constraints)\n",
    "problem.solve(solver=cp.SCS) # É uma boa prática especificar o solver\n",
    "\n",
    "# Verificar o status da solução\n",
    "if problem.status in [cp.OPTIMAL, cp.OPTIMAL_INACCURATE]:\n",
    "    print(\"Status:\", problem.status, \"\\n\")\n",
    "    print(\"Valor mínimo de Tr(X):\")\n",
    "    print(problem.value)\n",
    "    print(\"\\nMatriz W:\")\n",
    "    print(W.value)\n",
    "    print(\"\\nMatriz X:\")\n",
    "    print(X.value)\n",
    "    print(\"\\nVetor Z:\")\n",
    "    print(Z.value)\n",
    "else:\n",
    "    print(\"O problema não tem uma solução ótima. Status:\", problem.status)\n"
   ]
  },
  {
   "cell_type": "code",
   "execution_count": 7,
   "id": "823b4221",
   "metadata": {},
   "outputs": [
    {
     "data": {
      "text/plain": [
       "Expression(AFFINE, UNKNOWN, (4, 3))"
      ]
     },
     "execution_count": 7,
     "metadata": {},
     "output_type": "execute_result"
    }
   ],
   "source": [
    "M21"
   ]
  }
 ],
 "metadata": {
  "kernelspec": {
   "display_name": "venv",
   "language": "python",
   "name": "python3"
  },
  "language_info": {
   "codemirror_mode": {
    "name": "ipython",
    "version": 3
   },
   "file_extension": ".py",
   "mimetype": "text/x-python",
   "name": "python",
   "nbconvert_exporter": "python",
   "pygments_lexer": "ipython3",
   "version": "3.12.7"
  }
 },
 "nbformat": 4,
 "nbformat_minor": 5
}
