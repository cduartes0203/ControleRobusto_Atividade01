{
 "cells": [
  {
   "cell_type": "code",
   "execution_count": 14,
   "id": "0fadcdac",
   "metadata": {},
   "outputs": [],
   "source": [
    "import cvxpy as cp\n",
    "import numpy as np"
   ]
  },
  {
   "cell_type": "code",
   "execution_count": 13,
   "id": "4fabf46c",
   "metadata": {},
   "outputs": [
    {
     "name": "stdout",
     "output_type": "stream",
     "text": [
      "Status: Ótimo\n",
      "\n",
      "Valor mínimo de Tr(P): 1.4999935582523967\n",
      "Matriz P:\n",
      " [[1.24999281 0.24999795]\n",
      " [0.24999795 0.25000075]]\n"
     ]
    }
   ],
   "source": [
    "# Definir as matrizes A e Q\n",
    "A = np.array([[0, 1],\n",
    "              [-2, -3]])\n",
    "\n",
    "Q = np.array([[1, 0],\n",
    "              [0, 1]])\n",
    "\n",
    "# Definir as variáveis de otimização\n",
    "P = cp.Variable((2, 2), symmetric=True)\n",
    "\n",
    "# Definir a função objetivo: min Trace\n",
    "objective = cp.Minimize(cp.trace(P))\n",
    "\n",
    "# Definir as restrições\n",
    "constraints = [P >> 0,\n",
    "               A.T @ (P) + P @ A + Q << 0]\n",
    "\n",
    "# Criar e resolver o problema de otimização\n",
    "problem = cp.Problem(objective, constraints)\n",
    "problem.solve()\n",
    "\n",
    "# Verificar o status da solução\n",
    "if problem.status == cp.OPTIMAL:\n",
    "    print(\"Status: Ótimo\\n\")\n",
    "    print(\"Valor mínimo de Tr(P):\", problem.value)\n",
    "    print(\"Matriz P:\\n\", P.value)\n",
    "else:\n",
    "    print(\"O problema não tem uma solução ótima. Status:\", problem.status)"
   ]
  },
  {
   "cell_type": "code",
   "execution_count": 12,
   "id": "f4f86605",
   "metadata": {},
   "outputs": [
    {
     "name": "stdout",
     "output_type": "stream",
     "text": [
      "Status: Ótimo\n",
      "\n",
      "Valor mínimo de rho: 1.499998849816015\n",
      "Matriz P:\n",
      " [[1.25000138 0.25000035]\n",
      " [0.25000035 0.24999991]]\n"
     ]
    }
   ],
   "source": [
    "# Definir as matrizes A e Q\n",
    "A = np.array([[0, 1],\n",
    "              [-2, -3]])\n",
    "\n",
    "Q = np.array([[1, 0],\n",
    "              [0, 1]])\n",
    "\n",
    "# Definir as variáveis de otimização\n",
    "P = cp.Variable((2, 2), symmetric=True)\n",
    "rho = cp.Variable()\n",
    "\n",
    "# Definir a função objetivo: min rho\n",
    "objective = cp.Minimize(rho)\n",
    "\n",
    "# Definir as restrições\n",
    "constraints = [P >> 0,\n",
    "               rho>=cp.trace(P),\n",
    "               A.T @ (P) + P @ A + Q << 0]\n",
    "\n",
    "# Criar e resolver o problema de otimização\n",
    "problem = cp.Problem(objective, constraints)\n",
    "problem.solve()\n",
    "\n",
    "# Verificar o status da solução\n",
    "if problem.status == cp.OPTIMAL:\n",
    "    print(\"Status: Ótimo\\n\")\n",
    "    print(\"Valor mínimo de rho:\", problem.value)\n",
    "    print(\"Matriz P:\\n\", P.value)\n",
    "else:\n",
    "    print(\"O problema não tem uma solução ótima. Status:\", problem.status)"
   ]
  }
 ],
 "metadata": {
  "kernelspec": {
   "display_name": "venv",
   "language": "python",
   "name": "python3"
  },
  "language_info": {
   "codemirror_mode": {
    "name": "ipython",
    "version": 3
   },
   "file_extension": ".py",
   "mimetype": "text/x-python",
   "name": "python",
   "nbconvert_exporter": "python",
   "pygments_lexer": "ipython3",
   "version": "3.12.7"
  }
 },
 "nbformat": 4,
 "nbformat_minor": 5
}
