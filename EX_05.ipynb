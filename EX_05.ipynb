{
 "cells": [
  {
   "cell_type": "code",
   "execution_count": 4,
   "id": "5fc27788",
   "metadata": {},
   "outputs": [],
   "source": [
    "import cvxpy as cp\n",
    "import numpy as np"
   ]
  },
  {
   "cell_type": "code",
   "execution_count": 76,
   "id": "60124285",
   "metadata": {},
   "outputs": [
    {
     "name": "stdout",
     "output_type": "stream",
     "text": [
      "Status: optimal \n",
      "\n",
      "Valor ótimo de mu: 0.9999850552108828\n",
      "Matriz W:\n",
      " [[ 0.4548729  -0.46382445 -0.35856482  0.35852127]\n",
      " [-0.46382445  0.4742304   0.36379101 -0.36390334]\n",
      " [-0.35856482  0.36379101  1.81102143 -1.81128694]\n",
      " [ 0.35852127 -0.36390334 -1.81128694  1.81158138]]\n",
      "Vetor Z:\n",
      " [[-0.54288259  0.53627228  2.35319474 -3.35346087]]\n"
     ]
    }
   ],
   "source": [
    "# Definir variáveis k, f\n",
    "k, f = 1, 1\n",
    "# Definir as matrizes A, B1, B2, C e D\n",
    "A = np.array([[0, 0, 1, 0],\n",
    "              [0, 0, 0, 1],\n",
    "              [-k, k, -f, f],\n",
    "              [k, -k, f, -f]])\n",
    "\n",
    "B1 = np.array([[0], [0], [0], [1]])\n",
    "\n",
    "B2 = np.array([[0], [0], [0], [1]])\n",
    "\n",
    "C = np.array([[1, 0, 0, 0],\n",
    "              [0, 1, 0, 0],\n",
    "              [0, 0, 0, 0]])\n",
    "\n",
    "D = np.array([[0], [0], [1]])\n",
    "\n",
    "n1, n2, n3 = A.shape[0], C.shape[0], B1.shape[1]\n",
    "\n",
    "# Definir as variáveis de otimização\n",
    "W = cp.Variable((n1, n1), symmetric=True)\n",
    "Z = cp.Variable((1, n1))\n",
    "mu = cp.Variable()\n",
    "\n",
    "# Blocos para LMI\n",
    "M11 = A@W + W@A.T + B2@Z + Z.T@B2.T\n",
    "M12 = W@C.T + Z.T@D.T\n",
    "M13 = B1\n",
    "M21 = C@W + D@Z\n",
    "M22 = -np.eye(n2)\n",
    "M23 = np.zeros((n2,n3))\n",
    "M31 = B1.T\n",
    "M32 = np.zeros((n3, n2))\n",
    "M33 = -mu * np.eye(n3)\n",
    "\n",
    "# Construir a matriz de blocos LMI\n",
    "LMI = cp.bmat([\n",
    "    [M11, M12, M13],\n",
    "    [M21, M22, M23],\n",
    "    [M31, M32, M33]\n",
    "])\n",
    "\n",
    "# Definir a função objetivo: min (mu)\n",
    "objective = cp.Minimize(mu)\n",
    "\n",
    "# Definir as restrições\n",
    "constraints = [LMI << 0]\n",
    "\n",
    "# Criar e resolver o problema de otimização\n",
    "problem = cp.Problem(objective, constraints)\n",
    "problem.solve(solver=cp.SCS) # É uma boa prática especificar o solver\n",
    "\n",
    "# Verificar o status da solução\n",
    "if problem.status in [cp.OPTIMAL, cp.OPTIMAL_INACCURATE]:\n",
    "    print(\"Status:\", problem.status, \"\\n\")\n",
    "    print(\"Valor ótimo de mu:\",problem.value)\n",
    "    print(\"Matriz W:\\n\",W.value)\n",
    "    print(\"Vetor Z:\\n\",Z.value)\n",
    "else:\n",
    "    print(\"O problema não tem uma solução ótima. Status:\", problem.status)"
   ]
  },
  {
   "cell_type": "code",
   "execution_count": 77,
   "id": "0cacc340",
   "metadata": {},
   "outputs": [
    {
     "data": {
      "text/plain": [
       "array([[ -13246.7974753 ,  -12953.14276858, -105151.82060544,\n",
       "        -105116.94802385]])"
      ]
     },
     "execution_count": 77,
     "metadata": {},
     "output_type": "execute_result"
    }
   ],
   "source": [
    "Z.value @ np.linalg.inv(W.value)"
   ]
  }
 ],
 "metadata": {
  "kernelspec": {
   "display_name": "venv",
   "language": "python",
   "name": "python3"
  },
  "language_info": {
   "codemirror_mode": {
    "name": "ipython",
    "version": 3
   },
   "file_extension": ".py",
   "mimetype": "text/x-python",
   "name": "python",
   "nbconvert_exporter": "python",
   "pygments_lexer": "ipython3",
   "version": "3.12.7"
  }
 },
 "nbformat": 4,
 "nbformat_minor": 5
}
