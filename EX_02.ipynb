{
 "cells": [
  {
   "cell_type": "code",
   "execution_count": 1,
   "id": "e9824bae",
   "metadata": {},
   "outputs": [],
   "source": [
    "import numpy as np\n",
    "import cvxpy as cp"
   ]
  },
  {
   "cell_type": "code",
   "execution_count": 2,
   "id": "35199110",
   "metadata": {},
   "outputs": [
    {
     "name": "stdout",
     "output_type": "stream",
     "text": [
      "Status: Ótimo\n",
      "\n",
      "Valor mínimo de rho: 0.09259255050141106\n",
      "\n",
      "Matriz P:\n",
      " [[ 1.57407371e-01  8.33332702e-02 -5.63391371e-09  3.70370438e-02]\n",
      " [ 8.33332702e-02  9.25925457e-02 -3.70370196e-02 -8.07919129e-09]\n",
      " [-5.63391371e-09 -3.70370196e-02  2.31481494e-01 -1.28132760e-08]\n",
      " [ 3.70370438e-02 -8.07919129e-09 -1.28132760e-08  1.85185256e-02]]\n"
     ]
    }
   ],
   "source": [
    "# Definir variáveis k1, k2, m1, m2, c0\n",
    "k1, k2, m1, m2, c0 = 1, 1, 1, 0.5, 2\n",
    "# Definir as matrizes A, B e C\n",
    "A = np.array([[0, 0, 1, 0],\n",
    "              [0, 0, 0, 1],\n",
    "              [-(k1+k2)/m1, k2/m1, -c0/m1, 0],\n",
    "              [k2/m2,-k2/m2,0,-c0/m2]])\n",
    "\n",
    "B = np.array([[0],[0],[1/m1],[0]])\n",
    "\n",
    "C = np.array([[0,1,0,0]])\n",
    "\n",
    "rows, cols = A.shape[0], A.shape[1]\n",
    "\n",
    "# Definir as variáveis de otimização\n",
    "W = cp.Variable((rows, cols), symmetric=True)\n",
    "\n",
    "rho = cp.Variable()\n",
    "\n",
    "# Definir a função objetivo: min (rho)\n",
    "objective = cp.Minimize(rho)\n",
    "\n",
    "# Definir as restrições\n",
    "constraints = [W>>0,\n",
    "               W.T>>0,\n",
    "               rho >= cp.trace(C@W@C.T),\n",
    "               A@W + W@A.T + B@B.T << 0]\n",
    "\n",
    "# Criar e resolver o problema de otimização\n",
    "problem = cp.Problem(objective, constraints)\n",
    "problem.solve()\n",
    "\n",
    "# Verificar o status da solução\n",
    "if problem.status == cp.OPTIMAL:\n",
    "    print(\"Status: Ótimo\\n\")\n",
    "    print(\"Valor mínimo de rho:\",problem.value)\n",
    "    print(\"\\nMatriz P:\\n\", W.value)\n",
    "else:\n",
    "    print(\"O problema não tem uma solução ótima. Status:\", problem.status)"
   ]
  }
 ],
 "metadata": {
  "kernelspec": {
   "display_name": "venv",
   "language": "python",
   "name": "python3"
  },
  "language_info": {
   "codemirror_mode": {
    "name": "ipython",
    "version": 3
   },
   "file_extension": ".py",
   "mimetype": "text/x-python",
   "name": "python",
   "nbconvert_exporter": "python",
   "pygments_lexer": "ipython3",
   "version": "3.12.7"
  }
 },
 "nbformat": 4,
 "nbformat_minor": 5
}
