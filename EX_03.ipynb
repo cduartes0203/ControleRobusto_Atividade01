{
 "cells": [
  {
   "cell_type": "code",
   "execution_count": 10,
   "id": "90f35398",
   "metadata": {},
   "outputs": [],
   "source": [
    "import numpy as np\n",
    "import cvxpy as cp"
   ]
  },
  {
   "cell_type": "code",
   "execution_count": 9,
   "id": "57836a8b",
   "metadata": {},
   "outputs": [
    {
     "name": "stdout",
     "output_type": "stream",
     "text": [
      "Status: optimal \n",
      "\n",
      "Valor ótimo de mu: 1.0000002383582647\n",
      "Matriz P:\n",
      " [[1.25333379 0.74666663 0.29393798 0.01084982]\n",
      " [0.74666663 3.25333407 0.70606232 0.98915039]\n",
      " [0.29393798 0.70606232 0.3575597  0.21513624]\n",
      " [0.01084982 0.98915039 0.21513624 0.76581751]]\n"
     ]
    }
   ],
   "source": [
    "# Definir variáveis k1, k2, m1, m2, c0\n",
    "k1, k2, m1, m2, c0 = 1, 1, 1, 0.5, 2\n",
    "# Definir as matrizes A, B e C\n",
    "A = np.array([[0, 0, 1, 0],\n",
    "              [0, 0, 0, 1],\n",
    "              [-(k1+k2)/m1, k2/m1, -c0/m1, 0],\n",
    "              [k2/m2, -k2/m2, 0, -c0/m2]])\n",
    "\n",
    "B = np.array([[0], [0], [1/m1], [0]])\n",
    "\n",
    "C = np.array([[0, 1, 0, 0]])\n",
    "\n",
    "D = np.array([[0]])\n",
    "\n",
    "n, p = A.shape[0], B.shape[1]\n",
    "\n",
    "# Definir as variáveis de otimização\n",
    "P = cp.Variable((n, n), symmetric=True)\n",
    "\n",
    "mu = cp.Variable()\n",
    "\n",
    "# Definir a função objetivo: min (mu)\n",
    "objective = cp.Minimize(mu)\n",
    "\n",
    "# Definir os blocos da LMI\n",
    "M11 = A.T @ P + P @ A + C.T @ C\n",
    "M12 = P @ B + C.T @ D\n",
    "M21 = B.T @ P + D.T @ C\n",
    "M22 = D.T @ D - mu\n",
    "\n",
    "# Construir a matriz de blocos LMI\n",
    "LMI = cp.bmat([\n",
    "    [M11, M12],\n",
    "    [M21, M22]\n",
    "])\n",
    "\n",
    "# Definir as restrições corrigidas\n",
    "constraints = [P >> 0,\n",
    "               LMI << 0]\n",
    "\n",
    "# Criar e resolver o problema de otimização\n",
    "problem = cp.Problem(objective, constraints)\n",
    "problem.solve()\n",
    "\n",
    "# Verificar o status da solução\n",
    "if problem.status == cp.OPTIMAL or problem.status == cp.OPTIMAL_INACCURATE:\n",
    "    print(\"Status:\", problem.status, \"\\n\")\n",
    "    print(\"Valor ótimo de mu:\",problem.value)\n",
    "    print(\"Matriz P:\\n\",P.value)\n",
    "else:\n",
    "    print(\"O problema não tem uma solução ótima. Status:\", problem.status)"
   ]
  }
 ],
 "metadata": {
  "kernelspec": {
   "display_name": "venv",
   "language": "python",
   "name": "python3"
  },
  "language_info": {
   "codemirror_mode": {
    "name": "ipython",
    "version": 3
   },
   "file_extension": ".py",
   "mimetype": "text/x-python",
   "name": "python",
   "nbconvert_exporter": "python",
   "pygments_lexer": "ipython3",
   "version": "3.12.7"
  }
 },
 "nbformat": 4,
 "nbformat_minor": 5
}
